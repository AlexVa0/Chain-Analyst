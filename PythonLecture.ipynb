{
 "cells": [
  {
   "cell_type": "markdown",
   "id": "2549d459-cc3f-4e9f-ac75-8423250f944d",
   "metadata": {},
   "source": [
    "# Intro to Notebooks & Python"
   ]
  },
  {
   "cell_type": "markdown",
   "id": "4c16eced-f181-4ea2-9704-33deba6dd9e5",
   "metadata": {},
   "source": [
    "# Basic Functionality and Syntax:"
   ]
  },
  {
   "cell_type": "markdown",
   "id": "bd78098f-c512-4749-bf4c-90e768a6e5db",
   "metadata": {},
   "source": [
    "Cells:"
   ]
  },
  {
   "cell_type": "code",
   "execution_count": null,
   "id": "faac8109-7b86-4d87-b474-b7be7e3c484f",
   "metadata": {},
   "outputs": [],
   "source": []
  },
  {
   "cell_type": "markdown",
   "id": "118e4e2c-695b-4af6-a28f-8d0360e80bc9",
   "metadata": {},
   "source": [
    "Play/ Pause"
   ]
  },
  {
   "cell_type": "code",
   "execution_count": null,
   "id": "51a8769e-4cbd-4351-8702-be480dfe4b1a",
   "metadata": {},
   "outputs": [],
   "source": []
  },
  {
   "cell_type": "markdown",
   "id": "30329433-e705-4a7d-a944-be6fd4424d7a",
   "metadata": {},
   "source": [
    "## Markdown:"
   ]
  },
  {
   "cell_type": "markdown",
   "id": "0ba86be1-d794-48fb-9ecc-e99f1cf21243",
   "metadata": {},
   "source": [
    "Write Hello My name is _______ in Markdown"
   ]
  },
  {
   "cell_type": "markdown",
   "id": "13109b7c-14e4-4b57-89c0-1d83229507de",
   "metadata": {},
   "source": []
  },
  {
   "cell_type": "markdown",
   "id": "4e5c74d0-27a9-44fa-93a1-ea1f26aa7dd5",
   "metadata": {},
   "source": [
    "# Heading"
   ]
  },
  {
   "cell_type": "markdown",
   "id": "218db976-dc0a-4122-a58a-416e49423bd3",
   "metadata": {},
   "source": [
    "Use markdown with #"
   ]
  },
  {
   "cell_type": "markdown",
   "id": "f90a1e84-d4c3-4292-9386-4391056dbd8f",
   "metadata": {},
   "source": [
    "Test your own:"
   ]
  },
  {
   "cell_type": "markdown",
   "id": "acdfc544-d6fe-4759-9b91-0dc12e404308",
   "metadata": {},
   "source": []
  },
  {
   "cell_type": "markdown",
   "id": "2676b270-0d51-4364-965c-a368c9a20977",
   "metadata": {},
   "source": [
    "#### Print Statements"
   ]
  },
  {
   "cell_type": "code",
   "execution_count": 8,
   "id": "acebfd77-f67e-4bc2-a1e6-d252ca4a2f71",
   "metadata": {},
   "outputs": [
    {
     "name": "stdout",
     "output_type": "stream",
     "text": [
      "Hello, world\n"
     ]
    }
   ],
   "source": [
    "print(\"Hello, world\")"
   ]
  },
  {
   "cell_type": "markdown",
   "id": "15085331-fb13-43f2-b319-0da4a195cd50",
   "metadata": {},
   "source": [
    "Print \"Hello, my name is ___\""
   ]
  },
  {
   "cell_type": "code",
   "execution_count": null,
   "id": "3fe52d46-1b44-429a-b1c9-3f1b8f84381a",
   "metadata": {},
   "outputs": [],
   "source": []
  },
  {
   "cell_type": "markdown",
   "id": "d0a25fff-180d-4ffc-8b73-b1ea7faff61a",
   "metadata": {},
   "source": [
    "### Code Comments "
   ]
  },
  {
   "cell_type": "markdown",
   "id": "b515dbf2-1f5f-40f7-bb84-b3cdd7cd3954",
   "metadata": {},
   "source": [
    "Use the # symbol in "
   ]
  },
  {
   "cell_type": "code",
   "execution_count": null,
   "id": "1a402b42-e077-4627-a2a1-10d5c176661e",
   "metadata": {},
   "outputs": [],
   "source": []
  },
  {
   "cell_type": "markdown",
   "id": "00c340cc-da05-4acf-984f-08289ea05000",
   "metadata": {},
   "source": [
    "### Type"
   ]
  },
  {
   "cell_type": "markdown",
   "id": "570e75b6-58dc-47ad-96f9-4e7a4a386fd7",
   "metadata": {},
   "source": [
    "Check type() for 'string', 6 and 3.14"
   ]
  },
  {
   "cell_type": "code",
   "execution_count": null,
   "id": "e24f24c7-56c2-49d8-ae6c-d627ca3bbfcb",
   "metadata": {},
   "outputs": [],
   "source": []
  },
  {
   "cell_type": "code",
   "execution_count": null,
   "id": "a1682a54-f1db-4e0f-a13c-c944995b25b9",
   "metadata": {},
   "outputs": [],
   "source": []
  },
  {
   "cell_type": "code",
   "execution_count": null,
   "id": "d9302c3a-35d5-4cf9-a3ae-981454ad2881",
   "metadata": {},
   "outputs": [],
   "source": []
  },
  {
   "cell_type": "markdown",
   "id": "4f49174e-310d-42f5-87ee-adf39224a2da",
   "metadata": {},
   "source": [
    "# Variables:"
   ]
  },
  {
   "cell_type": "markdown",
   "id": "1acdb8ed-dada-4c3f-aefc-d0911c72a74f",
   "metadata": {},
   "source": [
    "In this section we will briefly touch on how to set variables."
   ]
  },
  {
   "cell_type": "markdown",
   "id": "b779553d-1336-4558-bc09-9c784f590c7f",
   "metadata": {},
   "source": [
    "Numeric: Integer/float"
   ]
  },
  {
   "cell_type": "code",
   "execution_count": 26,
   "id": "7671cc8b-5412-4ad3-9049-ee245426258c",
   "metadata": {},
   "outputs": [],
   "source": [
    "x = 5"
   ]
  },
  {
   "cell_type": "code",
   "execution_count": 28,
   "id": "71d59fd7-1cfc-4340-93e0-759b56f9ff69",
   "metadata": {},
   "outputs": [
    {
     "name": "stdout",
     "output_type": "stream",
     "text": [
      "5\n"
     ]
    }
   ],
   "source": [
    "print(x)"
   ]
  },
  {
   "cell_type": "code",
   "execution_count": 35,
   "id": "1a01bf4c-cfd1-4998-8e51-4e599d8b1853",
   "metadata": {},
   "outputs": [
    {
     "data": {
      "text/plain": [
       "int"
      ]
     },
     "execution_count": 35,
     "metadata": {},
     "output_type": "execute_result"
    }
   ],
   "source": [
    "type(x)"
   ]
  },
  {
   "cell_type": "markdown",
   "id": "15169537-b257-4a10-bc95-8b9786e6aba8",
   "metadata": {},
   "source": [
    "Make pi = 3.14"
   ]
  },
  {
   "cell_type": "code",
   "execution_count": null,
   "id": "ac9351d5-5fd0-498e-9368-34c7622c63d0",
   "metadata": {},
   "outputs": [],
   "source": []
  },
  {
   "cell_type": "code",
   "execution_count": null,
   "id": "3b926a9c-8ed1-4868-a6b9-8e8d91c09437",
   "metadata": {},
   "outputs": [],
   "source": []
  },
  {
   "cell_type": "markdown",
   "id": "1c08f7e0-0518-48cb-9b30-e1ce76570d93",
   "metadata": {},
   "source": [
    "String"
   ]
  },
  {
   "cell_type": "code",
   "execution_count": 31,
   "id": "fc1b9ef2-ef49-4750-bc3a-a3808027c16e",
   "metadata": {},
   "outputs": [],
   "source": [
    "greeting = 'Hello, World!' # or \"Hello, World!\""
   ]
  },
  {
   "cell_type": "code",
   "execution_count": null,
   "id": "94ff028f-9a29-4278-ba74-95af7238f632",
   "metadata": {},
   "outputs": [],
   "source": []
  },
  {
   "cell_type": "markdown",
   "id": "686a8e71-c0e8-439d-bf05-33397723a76a",
   "metadata": {},
   "source": [
    "# Variable Practice:"
   ]
  },
  {
   "cell_type": "markdown",
   "id": "3cd417a4-e699-4cc6-a457-369d1dcf8cfd",
   "metadata": {},
   "source": [
    "1) Set a variable to your name and print:"
   ]
  },
  {
   "cell_type": "code",
   "execution_count": null,
   "id": "8d93278a-b730-4cff-8b55-a17d09766d90",
   "metadata": {},
   "outputs": [],
   "source": []
  },
  {
   "cell_type": "markdown",
   "id": "ac46bb4d-a48e-4ba0-84f8-019ec26a356b",
   "metadata": {},
   "source": [
    "2. Set a variable to your age and print name and age together:"
   ]
  },
  {
   "cell_type": "code",
   "execution_count": null,
   "id": "a68d09ed-c08c-4075-94b7-ae665e93b65e",
   "metadata": {},
   "outputs": [],
   "source": []
  },
  {
   "cell_type": "code",
   "execution_count": null,
   "id": "013d2fff-7bb2-4261-b350-5c3adefa7197",
   "metadata": {},
   "outputs": [],
   "source": []
  },
  {
   "cell_type": "code",
   "execution_count": null,
   "id": "49869db4-2a2b-4e83-a844-e20911170934",
   "metadata": {},
   "outputs": [],
   "source": []
  },
  {
   "cell_type": "markdown",
   "id": "60474cb7-eb53-4414-b130-2a3d0f159565",
   "metadata": {},
   "source": [
    "# Sequence Types:"
   ]
  },
  {
   "cell_type": "markdown",
   "id": "20d25d0f-2a98-417f-9887-6067ab57cd1b",
   "metadata": {},
   "source": [
    "# Lists:"
   ]
  },
  {
   "cell_type": "markdown",
   "id": "13253045-824d-4959-afb5-a306be25a7ee",
   "metadata": {},
   "source": [
    "Lists: Ordered, mutable collection"
   ]
  },
  {
   "cell_type": "code",
   "execution_count": 53,
   "id": "089c1d9e-5a5a-4aef-a563-a57ab8e05359",
   "metadata": {},
   "outputs": [],
   "source": [
    "number_list = [1,3,5,2,4]"
   ]
  },
  {
   "cell_type": "code",
   "execution_count": 55,
   "id": "23015b7c-c996-46d0-8cc1-5db0507ce92a",
   "metadata": {},
   "outputs": [
    {
     "name": "stdout",
     "output_type": "stream",
     "text": [
      "[1, 3, 5, 2, 4]\n"
     ]
    }
   ],
   "source": [
    "print(number_list)"
   ]
  },
  {
   "cell_type": "markdown",
   "id": "6224638e-e307-4b7a-a3bf-7fd3d1ec0785",
   "metadata": {},
   "source": [
    "Determine the length of the list:"
   ]
  },
  {
   "cell_type": "code",
   "execution_count": 58,
   "id": "b949f18a-8c05-4d5e-90a6-c711b3762042",
   "metadata": {},
   "outputs": [
    {
     "data": {
      "text/plain": [
       "5"
      ]
     },
     "execution_count": 58,
     "metadata": {},
     "output_type": "execute_result"
    }
   ],
   "source": [
    "len(number_list)"
   ]
  },
  {
   "cell_type": "markdown",
   "id": "fb2dcf69-65bd-4c76-a3ed-b2897ebcbe9b",
   "metadata": {},
   "source": [
    "Adding to a list with .append()"
   ]
  },
  {
   "cell_type": "code",
   "execution_count": 61,
   "id": "d63a4443-d33e-48ff-aefe-e8b8e4856ef1",
   "metadata": {},
   "outputs": [],
   "source": [
    "number_list.append(6)"
   ]
  },
  {
   "cell_type": "code",
   "execution_count": 63,
   "id": "9c45b7cf-866b-4276-bb6f-03f50d4c8c18",
   "metadata": {},
   "outputs": [
    {
     "name": "stdout",
     "output_type": "stream",
     "text": [
      "[1, 3, 5, 2, 4, 6]\n"
     ]
    }
   ],
   "source": [
    "print(number_list)"
   ]
  },
  {
   "cell_type": "markdown",
   "id": "a5738bf2-7359-457c-91d0-4e345d6899c2",
   "metadata": {},
   "source": [
    "Selecting variable from list starting with 0"
   ]
  },
  {
   "cell_type": "code",
   "execution_count": 66,
   "id": "37bee4f8-ab77-431f-a5f2-009cd54e856f",
   "metadata": {},
   "outputs": [
    {
     "data": {
      "text/plain": [
       "1"
      ]
     },
     "execution_count": 66,
     "metadata": {},
     "output_type": "execute_result"
    }
   ],
   "source": [
    "number_list[0]"
   ]
  },
  {
   "cell_type": "code",
   "execution_count": 66,
   "id": "25dafa02-8bf2-411c-88f0-6fc2db07a198",
   "metadata": {},
   "outputs": [
    {
     "data": {
      "text/plain": [
       "3"
      ]
     },
     "execution_count": 66,
     "metadata": {},
     "output_type": "execute_result"
    }
   ],
   "source": [
    "number_list[1]\n"
   ]
  },
  {
   "cell_type": "markdown",
   "id": "16e91a9f-03b4-49b5-a2b7-684e4bd447d0",
   "metadata": {},
   "source": [
    "Selecting from end of list with negative counts."
   ]
  },
  {
   "cell_type": "code",
   "execution_count": 68,
   "id": "d850938a-dcf7-49a8-99c6-2379b94646c4",
   "metadata": {},
   "outputs": [
    {
     "data": {
      "text/plain": [
       "6"
      ]
     },
     "execution_count": 68,
     "metadata": {},
     "output_type": "execute_result"
    }
   ],
   "source": [
    "number_list[-1]"
   ]
  },
  {
   "cell_type": "code",
   "execution_count": 68,
   "id": "9f54a0b4-9013-41eb-80fe-559578da24d1",
   "metadata": {},
   "outputs": [
    {
     "data": {
      "text/plain": [
       "2"
      ]
     },
     "execution_count": 68,
     "metadata": {},
     "output_type": "execute_result"
    }
   ],
   "source": [
    "number_list[-3]"
   ]
  },
  {
   "cell_type": "markdown",
   "id": "88d742ce-f074-4ae3-9982-2288ca5cbff1",
   "metadata": {},
   "source": [
    "Order a list: with .sort()"
   ]
  },
  {
   "cell_type": "code",
   "execution_count": 77,
   "id": "027e7d67-cb09-4119-b6a6-dd05c9b1f687",
   "metadata": {},
   "outputs": [
    {
     "name": "stdout",
     "output_type": "stream",
     "text": [
      "[1, 2, 3, 4, 5, 6]\n"
     ]
    }
   ],
   "source": [
    "number_list.sort()\n",
    "\n",
    "#print list to check\n",
    "print(number_list)"
   ]
  },
  {
   "cell_type": "markdown",
   "id": "aa1c81c8-eca3-44ba-8b22-5278a093877f",
   "metadata": {},
   "source": [
    "split the list using list[:3]"
   ]
  },
  {
   "cell_type": "code",
   "execution_count": 82,
   "id": "d077a9d7-f9cc-472d-b6b5-c0f765b0fe22",
   "metadata": {},
   "outputs": [
    {
     "name": "stdout",
     "output_type": "stream",
     "text": [
      "[1, 2, 3]\n"
     ]
    }
   ],
   "source": [
    "first_3_numbers = number_list[:3]\n",
    "print(first_3_numbers)"
   ]
  },
  {
   "cell_type": "markdown",
   "id": "0471d181-d585-42e8-87b7-f61146d8b925",
   "metadata": {},
   "source": [
    "# List Practice:"
   ]
  },
  {
   "cell_type": "markdown",
   "id": "c402c997-0a76-4888-bcdc-e2a2b566ee59",
   "metadata": {},
   "source": [
    "Create a list of your favorite foods:"
   ]
  },
  {
   "cell_type": "code",
   "execution_count": 70,
   "id": "4a20ea85-44b7-4a5e-aeed-21fc42b5231a",
   "metadata": {},
   "outputs": [],
   "source": [
    "foods = [\"pizza\", \"burger\", \"brownies\", \"pancakes\"]"
   ]
  },
  {
   "cell_type": "markdown",
   "id": "2a0dcb03-95ec-4b4c-a243-6a65b2deefe6",
   "metadata": {},
   "source": [
    "print your list"
   ]
  },
  {
   "cell_type": "code",
   "execution_count": 72,
   "id": "e9f99a75-e07f-44a3-875f-435f19130538",
   "metadata": {},
   "outputs": [
    {
     "name": "stdout",
     "output_type": "stream",
     "text": [
      "['pizza', 'burger', 'brownies', 'pancakes']\n"
     ]
    }
   ],
   "source": [
    "print(foods)"
   ]
  },
  {
   "cell_type": "markdown",
   "id": "b24f2ff2-938e-429f-95b8-d3a6697de947",
   "metadata": {},
   "source": [
    "Print the first and last element of your list. "
   ]
  },
  {
   "cell_type": "code",
   "execution_count": 74,
   "id": "558600cc-ae58-4105-a0d3-72cee26285e0",
   "metadata": {},
   "outputs": [
    {
     "data": {
      "text/plain": [
       "'pizza'"
      ]
     },
     "execution_count": 74,
     "metadata": {},
     "output_type": "execute_result"
    }
   ],
   "source": [
    "#First element:\n",
    "foods[0]"
   ]
  },
  {
   "cell_type": "code",
   "execution_count": 76,
   "id": "68daded9-1d05-416c-ad0e-d2978aaf074c",
   "metadata": {},
   "outputs": [
    {
     "data": {
      "text/plain": [
       "'pancakes'"
      ]
     },
     "execution_count": 76,
     "metadata": {},
     "output_type": "execute_result"
    }
   ],
   "source": [
    "#last element\n",
    "foods[-1] #or foods[3]"
   ]
  },
  {
   "cell_type": "markdown",
   "id": "ec61a66f-2e8e-460e-891b-87b4a55c146a",
   "metadata": {},
   "source": [
    "Order your list alphabetically"
   ]
  },
  {
   "cell_type": "code",
   "execution_count": 78,
   "id": "ba00b5d1-8b7b-412f-a296-701ecb5970f2",
   "metadata": {},
   "outputs": [
    {
     "name": "stdout",
     "output_type": "stream",
     "text": [
      "['brownies', 'burger', 'pancakes', 'pizza']\n"
     ]
    }
   ],
   "source": [
    "foods.sort()\n",
    "print(foods)"
   ]
  },
  {
   "cell_type": "markdown",
   "id": "19eb2e3b-4553-49c1-a003-8fe0209c87d9",
   "metadata": {},
   "source": [
    "# Tuples:"
   ]
  },
  {
   "cell_type": "markdown",
   "id": "08573072-4e22-4753-9863-408c719db452",
   "metadata": {},
   "source": [
    "Tuples are Immuntable (can't change)"
   ]
  },
  {
   "cell_type": "code",
   "execution_count": 86,
   "id": "91c5c3c7-6831-49a4-97b1-82768b20fb9c",
   "metadata": {},
   "outputs": [],
   "source": [
    "name_tuple = ('Jim', 'John', 'Jane')"
   ]
  },
  {
   "cell_type": "code",
   "execution_count": 88,
   "id": "7a227524-1e23-452f-9403-f2d5a87602d8",
   "metadata": {},
   "outputs": [
    {
     "data": {
      "text/plain": [
       "tuple"
      ]
     },
     "execution_count": 88,
     "metadata": {},
     "output_type": "execute_result"
    }
   ],
   "source": [
    "type(name_tuple)"
   ]
  },
  {
   "cell_type": "code",
   "execution_count": 90,
   "id": "0545bce1-299e-48c1-9586-f695a6257dcd",
   "metadata": {},
   "outputs": [
    {
     "data": {
      "text/plain": [
       "'John'"
      ]
     },
     "execution_count": 90,
     "metadata": {},
     "output_type": "execute_result"
    }
   ],
   "source": [
    "name_tuple[1]"
   ]
  },
  {
   "cell_type": "code",
   "execution_count": 94,
   "id": "67e02d2c-fd07-4a37-85e1-e18691760726",
   "metadata": {},
   "outputs": [],
   "source": [
    "#name_tuple[0] = 'Sam'"
   ]
  },
  {
   "cell_type": "markdown",
   "id": "1d57c2d0-657a-48f4-ad84-13ab1ec1e9dd",
   "metadata": {},
   "source": [
    "# Tuple Practice: "
   ]
  },
  {
   "cell_type": "markdown",
   "id": "e91e0ad5-36d9-4ddc-be6b-ace2614f297e",
   "metadata": {},
   "source": [
    "Create a tuple using elements 1,2,3,4,5. "
   ]
  },
  {
   "cell_type": "code",
   "execution_count": 80,
   "id": "fab033bd-92e0-4519-b73c-f255b7596d5d",
   "metadata": {},
   "outputs": [],
   "source": [
    "tuple = (1,2,3,4,5)"
   ]
  },
  {
   "cell_type": "markdown",
   "id": "83b067bf-0a77-4c64-9760-6068b602edb2",
   "metadata": {},
   "source": [
    "Print the length of the tuple "
   ]
  },
  {
   "cell_type": "code",
   "execution_count": null,
   "id": "7d9b7221-6439-49c4-9a33-777df5d7e582",
   "metadata": {},
   "outputs": [],
   "source": []
  },
  {
   "cell_type": "markdown",
   "id": "d7aac56b-566e-41cf-825a-239333628574",
   "metadata": {},
   "source": [
    "Unpack the following tuple so that variable name, age and profession:"
   ]
  },
  {
   "cell_type": "code",
   "execution_count": 84,
   "id": "d456c4c5-87b0-41c3-b6cb-3166a7453281",
   "metadata": {},
   "outputs": [],
   "source": [
    "person = (\"John\", 30, \"Crypto Analyst\")"
   ]
  },
  {
   "cell_type": "code",
   "execution_count": null,
   "id": "a0b15d1b-86c8-45fa-a157-f80f02a36838",
   "metadata": {},
   "outputs": [],
   "source": []
  },
  {
   "cell_type": "code",
   "execution_count": null,
   "id": "f4b702d7-56e5-44a5-a750-81dda3fd7a2b",
   "metadata": {},
   "outputs": [],
   "source": []
  },
  {
   "cell_type": "markdown",
   "id": "882b47f2-1a38-4ae9-9266-9408b9e26610",
   "metadata": {},
   "source": [
    "# Dictionary"
   ]
  },
  {
   "cell_type": "markdown",
   "id": "02fa4315-40c2-42c4-972b-4d50a0a5c011",
   "metadata": {},
   "source": [
    "Dictionary have key values and pairs.\n",
    "Use {} for dictionaries"
   ]
  },
  {
   "cell_type": "code",
   "execution_count": 99,
   "id": "5a94c6c7-3165-44df-bcbb-78db36939d1b",
   "metadata": {},
   "outputs": [],
   "source": [
    "my_dict = {\n",
    "    \"name\": \"John\",\n",
    "    \"age\": 25    \n",
    "}"
   ]
  },
  {
   "cell_type": "code",
   "execution_count": 101,
   "id": "9985c078-82fe-4b81-bae1-9a01697a7b32",
   "metadata": {},
   "outputs": [
    {
     "name": "stdout",
     "output_type": "stream",
     "text": [
      "{'name': 'John', 'age': 25}\n"
     ]
    }
   ],
   "source": [
    "print(my_dict)"
   ]
  },
  {
   "cell_type": "markdown",
   "id": "fd33b2e9-287f-48b8-8426-e1edc6a3d3f1",
   "metadata": {},
   "source": [
    "Crypto Portfolio Example:"
   ]
  },
  {
   "cell_type": "code",
   "execution_count": 32,
   "id": "a2a7ae47-7eb9-46e1-97dd-24f9e86fcfa0",
   "metadata": {},
   "outputs": [
    {
     "name": "stdout",
     "output_type": "stream",
     "text": [
      "{'Alice': {'Bitcoin': 1.5, 'Ethereum': 10.0, 'Cardano': 500.0}, 'Bob': {'Bitcoin': 0.75, 'Ethereum': 5.5, 'Solana': 200.0}, 'Charlie': {'Bitcoin': 2.0, 'Ripple': 1000.0, 'Dogecoin': 15000.0}, 'Diana': {'Ethereum': 8.0, 'Polkadot': 150.0, 'Cardano': 300.0}, 'Evan': {'Bitcoin': 0.5, 'Ethereum': 2.0, 'Litecoin': 50.0}}\n"
     ]
    }
   ],
   "source": [
    "crypto_portfolio = {\n",
    "    \"Alice\": {\"Bitcoin\": 1.5, \"Ethereum\": 10.0, \"Cardano\": 500.0},\n",
    "    \"Bob\": {\"Bitcoin\": 0.75, \"Ethereum\": 5.5, \"Solana\": 200.0},\n",
    "    \"Charlie\": {\"Bitcoin\": 2.0, \"Ripple\": 1000.0, \"Dogecoin\": 15000.0},\n",
    "    \"Diana\": {\"Ethereum\": 8.0, \"Polkadot\": 150.0, \"Cardano\": 300.0},\n",
    "    \"Evan\": {\"Bitcoin\": 0.5, \"Ethereum\": 2.0, \"Litecoin\": 50.0},\n",
    "}\n",
    "\n",
    "# Print the dictionary\n",
    "print(crypto_portfolio)\n"
   ]
  },
  {
   "cell_type": "code",
   "execution_count": null,
   "id": "f2cce52f-86ce-419e-a0fc-58106376b6a8",
   "metadata": {},
   "outputs": [],
   "source": []
  },
  {
   "cell_type": "markdown",
   "id": "6a16f9bf-43f9-475f-916a-55f2c0f12430",
   "metadata": {},
   "source": [
    "Get Alices bitcoin amount:"
   ]
  },
  {
   "cell_type": "code",
   "execution_count": 34,
   "id": "bb030b0a-bde2-45cc-9f43-26a3ddc95d60",
   "metadata": {},
   "outputs": [
    {
     "name": "stdout",
     "output_type": "stream",
     "text": [
      "1.5\n"
     ]
    }
   ],
   "source": [
    "print(crypto_portfolio[\"Alice\"][\"Bitcoin\"])\n"
   ]
  },
  {
   "cell_type": "markdown",
   "id": "89de9e74-3816-4895-b3db-ee58a4a75a0e",
   "metadata": {},
   "source": [
    "Add Binance Coin to Bob's Portfolio:"
   ]
  },
  {
   "cell_type": "code",
   "execution_count": 37,
   "id": "97fa480d-191e-45a7-869b-7aa54970491b",
   "metadata": {},
   "outputs": [
    {
     "name": "stdout",
     "output_type": "stream",
     "text": [
      "{'Bitcoin': 0.75, 'Ethereum': 5.5, 'Solana': 200.0, 'Binance Coin': 10.0}\n"
     ]
    }
   ],
   "source": [
    "crypto_portfolio[\"Bob\"][\"Binance Coin\"] = 10.0\n",
    "print(crypto_portfolio[\"Bob\"])\n"
   ]
  },
  {
   "cell_type": "markdown",
   "id": "dce2ff32-09d2-4da9-94bc-4e2c2f2e6d76",
   "metadata": {},
   "source": [
    "Create a list of all the bitcoin holdings in our dictionary:"
   ]
  },
  {
   "cell_type": "code",
   "execution_count": 45,
   "id": "902457cf-d92c-4c6c-8f80-a5e533bb5f3b",
   "metadata": {},
   "outputs": [
    {
     "name": "stdout",
     "output_type": "stream",
     "text": [
      "[1.5, 0.75, 2.0, 0, 0.5]\n"
     ]
    }
   ],
   "source": [
    "# Create a list of Bitcoin holdings (numerical values only)\n",
    "bitcoin_list = []\n",
    "\n",
    "# Loop through the crypto_portfolio dictionary\n",
    "for portfolio in crypto_portfolio.values():\n",
    "    # Check if Bitcoin is in the portfolio and add its value, else add 0\n",
    "    bitcoin_list.append(portfolio.get(\"Bitcoin\", 0))\n",
    "\n",
    "# Print the list of Bitcoin holdings\n",
    "print(bitcoin_list)\n"
   ]
  },
  {
   "cell_type": "markdown",
   "id": "f0fed7b6-9151-4964-a496-899b51fe71c4",
   "metadata": {},
   "source": [
    "Get the total bitcoin count in the dictionary:"
   ]
  },
  {
   "cell_type": "code",
   "execution_count": 62,
   "id": "8977e456-4141-4463-bf5b-4a3b241de65d",
   "metadata": {},
   "outputs": [
    {
     "name": "stdout",
     "output_type": "stream",
     "text": [
      "Total Bitcoin Holdings:  4.75\n",
      "Total Bitcoin Holdings: 4.75\n"
     ]
    }
   ],
   "source": [
    "btc_total = sum(bitcoin_list)\n",
    "print(\"Total Bitcoin Holdings: \", btc_total)\n",
    "\n",
    "# or \n",
    "\n",
    "print(\"Total Bitcoin Holdings: \" + str(btc_total))\n"
   ]
  },
  {
   "cell_type": "code",
   "execution_count": null,
   "id": "65dbd5a0-3c88-4c3f-9d9f-b743cfbcd541",
   "metadata": {},
   "outputs": [],
   "source": []
  },
  {
   "cell_type": "markdown",
   "id": "f9d75f37-c6d9-48b4-ad23-84d4cdff2ae0",
   "metadata": {},
   "source": [
    "# Booleans:"
   ]
  },
  {
   "cell_type": "markdown",
   "id": "598301a8-6e43-42e6-95c9-edc17b631869",
   "metadata": {},
   "source": [
    "True or False"
   ]
  },
  {
   "cell_type": "code",
   "execution_count": 107,
   "id": "4429811f-1996-44d0-8158-d79a3b23ef3f",
   "metadata": {},
   "outputs": [],
   "source": [
    "Student = True"
   ]
  },
  {
   "cell_type": "code",
   "execution_count": 109,
   "id": "5f7e1fd3-8c7e-4853-bfa9-c0cb253078b9",
   "metadata": {},
   "outputs": [
    {
     "data": {
      "text/plain": [
       "bool"
      ]
     },
     "execution_count": 109,
     "metadata": {},
     "output_type": "execute_result"
    }
   ],
   "source": [
    "type(Student)"
   ]
  },
  {
   "cell_type": "markdown",
   "id": "0cf92d0b-836e-4adf-829e-5791ce7fdc90",
   "metadata": {},
   "source": [
    "Booleans can be used for a lot of if statements etc."
   ]
  },
  {
   "cell_type": "markdown",
   "id": "265ad0b0-6727-45bc-9e4e-b062d46b0c10",
   "metadata": {},
   "source": [
    "Weather Example:"
   ]
  },
  {
   "cell_type": "code",
   "execution_count": 65,
   "id": "c701f72d-9a48-46b0-bded-92e0e09aaba1",
   "metadata": {},
   "outputs": [
    {
     "name": "stdout",
     "output_type": "stream",
     "text": [
      "True\n",
      "False\n"
     ]
    }
   ],
   "source": [
    "#Weather: \n",
    "is_sunny = True\n",
    "is_raining = False\n",
    "\n",
    "print(is_sunny)\n",
    "print(is_raining)\n"
   ]
  },
  {
   "cell_type": "markdown",
   "id": "1ee8c70b-dd9a-4297-bd8b-f2286309d92d",
   "metadata": {},
   "source": [
    "Example: \"and\" Operator:"
   ]
  },
  {
   "cell_type": "code",
   "execution_count": 68,
   "id": "9b0a3138-3c81-450d-9fe9-9e407ddfbaf5",
   "metadata": {},
   "outputs": [
    {
     "name": "stdout",
     "output_type": "stream",
     "text": [
      "True\n"
     ]
    }
   ],
   "source": [
    "is_sunny = True\n",
    "is_warm = True\n",
    "\n",
    "is_good_day = is_sunny and is_warm\n",
    "print(is_good_day)"
   ]
  },
  {
   "cell_type": "markdown",
   "id": "11935d1f-1102-46b0-a41a-c5659e2b2247",
   "metadata": {},
   "source": [
    "Example: \"or\" operator"
   ]
  },
  {
   "cell_type": "code",
   "execution_count": 72,
   "id": "4a7f44c0-2cb6-427d-b689-991110f4dde0",
   "metadata": {},
   "outputs": [
    {
     "name": "stdout",
     "output_type": "stream",
     "text": [
      "True\n"
     ]
    }
   ],
   "source": [
    "is_sunny = True\n",
    "is_warm = False\n",
    "is_good_day = is_sunny or is_warm\n",
    "print(is_good_day)"
   ]
  },
  {
   "cell_type": "markdown",
   "id": "2cd54746-37fc-415c-9a65-6956573f59f7",
   "metadata": {},
   "source": [
    "Example: \"not\" Operator"
   ]
  },
  {
   "cell_type": "code",
   "execution_count": 75,
   "id": "38a1dc07-48fa-40d9-b53e-1a6c99a41a05",
   "metadata": {},
   "outputs": [
    {
     "name": "stdout",
     "output_type": "stream",
     "text": [
      "False\n"
     ]
    }
   ],
   "source": [
    "is_sunny = True\n",
    "is_not_sunny = not is_sunny\n",
    "print(is_not_sunny)"
   ]
  },
  {
   "cell_type": "markdown",
   "id": "4845f6a8-0b5d-4175-aade-6b4f009c4de9",
   "metadata": {},
   "source": [
    "Boolean Conditions:"
   ]
  },
  {
   "cell_type": "code",
   "execution_count": 79,
   "id": "701ca996-d5f7-4297-ae4c-a590d06d2d35",
   "metadata": {},
   "outputs": [
    {
     "name": "stdout",
     "output_type": "stream",
     "text": [
      "It's a nice day!\n"
     ]
    }
   ],
   "source": [
    "is_sunny = True\n",
    "is_raining = False\n",
    "\n",
    "if is_sunny and not is_raining:\n",
    "    print(\"It's a nice day!\")  \n",
    "else:\n",
    "    print(\"Maybe stay indoors.\")"
   ]
  },
  {
   "cell_type": "markdown",
   "id": "50eb19ec-8d40-43b9-9c87-11253e892c00",
   "metadata": {},
   "source": [
    "# Arithmetic"
   ]
  },
  {
   "cell_type": "markdown",
   "id": "42d16bb3-4a2b-4919-a4a1-a73d782af7df",
   "metadata": {},
   "source": [
    "### Basic Math"
   ]
  },
  {
   "cell_type": "markdown",
   "id": "6e808a59-1d0a-43ee-80ef-d05ea6e9b4eb",
   "metadata": {},
   "source": [
    "Addition use +, Subtraction use -, Multiplication use *, Division use /"
   ]
  },
  {
   "cell_type": "code",
   "execution_count": 118,
   "id": "fec12989-7e79-4fd2-9006-e044fd603385",
   "metadata": {},
   "outputs": [],
   "source": [
    "x,y = 5,3"
   ]
  },
  {
   "cell_type": "code",
   "execution_count": 120,
   "id": "d0483a9c-d60d-4862-bccd-ca40787b2915",
   "metadata": {},
   "outputs": [
    {
     "data": {
      "text/plain": [
       "8"
      ]
     },
     "execution_count": 120,
     "metadata": {},
     "output_type": "execute_result"
    }
   ],
   "source": [
    "z = x + y \n",
    "z"
   ]
  },
  {
   "cell_type": "code",
   "execution_count": 122,
   "id": "6a5d61d7-3beb-4702-857b-22205edac23a",
   "metadata": {},
   "outputs": [
    {
     "data": {
      "text/plain": [
       "2"
      ]
     },
     "execution_count": 122,
     "metadata": {},
     "output_type": "execute_result"
    }
   ],
   "source": [
    "z = x - y\n",
    "z"
   ]
  },
  {
   "cell_type": "code",
   "execution_count": 126,
   "id": "b9e6ddf9-4f4b-4a3c-836f-cdad6d34ff11",
   "metadata": {},
   "outputs": [
    {
     "data": {
      "text/plain": [
       "15"
      ]
     },
     "execution_count": 126,
     "metadata": {},
     "output_type": "execute_result"
    }
   ],
   "source": [
    "z = x * y\n",
    "z"
   ]
  },
  {
   "cell_type": "code",
   "execution_count": 128,
   "id": "310d5f25-deb0-43de-a9c4-c7d9e2ad4104",
   "metadata": {},
   "outputs": [
    {
     "data": {
      "text/plain": [
       "1.6666666666666667"
      ]
     },
     "execution_count": 128,
     "metadata": {},
     "output_type": "execute_result"
    }
   ],
   "source": [
    "z = x / y\n",
    "z"
   ]
  },
  {
   "cell_type": "markdown",
   "id": "fb1ccbfa-051d-4662-bd2f-8f6330558b01",
   "metadata": {},
   "source": [
    "# Practice:"
   ]
  },
  {
   "cell_type": "markdown",
   "id": "eced0eb7-45bc-43d0-95e0-8885bed5c141",
   "metadata": {},
   "source": [
    "Take this time to make your own equations and print the answer"
   ]
  },
  {
   "cell_type": "code",
   "execution_count": 101,
   "id": "96df1d59-6ed1-4fda-b6a8-ccabbb6a51cb",
   "metadata": {},
   "outputs": [],
   "source": [
    "#Addition\n",
    "\n"
   ]
  },
  {
   "cell_type": "code",
   "execution_count": 103,
   "id": "b373b365-6f7f-403f-984f-26bf3c6f50cf",
   "metadata": {},
   "outputs": [],
   "source": [
    "#Subtraction\n",
    "\n"
   ]
  },
  {
   "cell_type": "code",
   "execution_count": 105,
   "id": "e5545eba-e745-43d2-89ca-db822560a335",
   "metadata": {},
   "outputs": [],
   "source": [
    "#Multiplication\n"
   ]
  },
  {
   "cell_type": "code",
   "execution_count": 107,
   "id": "d3fd30ac-f1f2-4042-8c6e-fc1f13e29732",
   "metadata": {},
   "outputs": [],
   "source": [
    "#Division\n"
   ]
  },
  {
   "cell_type": "markdown",
   "id": "3356eda8-71cc-4095-a595-8fd250b851cb",
   "metadata": {},
   "source": [
    "# Arithmetic 2"
   ]
  },
  {
   "cell_type": "markdown",
   "id": "44dd9431-e65e-4926-8f07-1adfe2db2480",
   "metadata": {},
   "source": [
    "#### Floor Division (//) : returns the whole number quotient"
   ]
  },
  {
   "cell_type": "code",
   "execution_count": 146,
   "id": "485c2c5c-27c4-4406-9097-df7a352bdb82",
   "metadata": {},
   "outputs": [
    {
     "name": "stdout",
     "output_type": "stream",
     "text": [
      "3\n"
     ]
    }
   ],
   "source": [
    "x,y = 25,7\n",
    "z = x//y\n",
    "print(z) # or you can use print(x//y)"
   ]
  },
  {
   "cell_type": "markdown",
   "id": "704a8a1c-4f3f-4062-9010-2d4f374fd1a3",
   "metadata": {},
   "source": [
    "#### Modulus (%): returns the remainder division"
   ]
  },
  {
   "cell_type": "code",
   "execution_count": 149,
   "id": "99e81dca-7c86-47cf-b317-9e848df78672",
   "metadata": {},
   "outputs": [
    {
     "name": "stdout",
     "output_type": "stream",
     "text": [
      "4\n"
     ]
    }
   ],
   "source": [
    "remainder = x % y\n",
    "print(remainder) #or print(x%y)"
   ]
  },
  {
   "cell_type": "code",
   "execution_count": 157,
   "id": "925124b2-1f29-4632-b388-93991d51902e",
   "metadata": {},
   "outputs": [
    {
     "name": "stdout",
     "output_type": "stream",
     "text": [
      "25 divided by 7:\n",
      "3  remainder:  4\n"
     ]
    }
   ],
   "source": [
    "#combined =\n",
    "print(str(x) + ' divided by '+ str(y) +':')\n",
    "print(z, ' remainder: ', remainder)"
   ]
  },
  {
   "cell_type": "markdown",
   "id": "9f147751-859a-436a-b561-36a925c0c698",
   "metadata": {},
   "source": [
    "##### Exponents use: **"
   ]
  },
  {
   "cell_type": "code",
   "execution_count": 162,
   "id": "55ac8a15-f65b-4e5b-8518-716e990c74b7",
   "metadata": {},
   "outputs": [
    {
     "data": {
      "text/plain": [
       "4"
      ]
     },
     "execution_count": 162,
     "metadata": {},
     "output_type": "execute_result"
    }
   ],
   "source": [
    "e = 2**2\n",
    "e"
   ]
  },
  {
   "cell_type": "code",
   "execution_count": 164,
   "id": "e831953b-ef56-4c95-b4b2-1afce17bac4f",
   "metadata": {},
   "outputs": [
    {
     "data": {
      "text/plain": [
       "8"
      ]
     },
     "execution_count": 164,
     "metadata": {},
     "output_type": "execute_result"
    }
   ],
   "source": [
    "e2 = 2**3\n",
    "e2"
   ]
  },
  {
   "cell_type": "markdown",
   "id": "66da94e0-61c5-498a-bc0d-154f09418f7b",
   "metadata": {},
   "source": [
    "Square root use math package and math.sqrt"
   ]
  },
  {
   "cell_type": "code",
   "execution_count": 109,
   "id": "d1e18dbd-5da6-45c7-a296-d070437a90d0",
   "metadata": {},
   "outputs": [
    {
     "name": "stdout",
     "output_type": "stream",
     "text": [
      "4.0\n"
     ]
    }
   ],
   "source": [
    "import math\n",
    "\n",
    "# Calculate the square root of a number\n",
    "number = 16\n",
    "sqrt_value = math.sqrt(number)\n",
    "print(sqrt_value)"
   ]
  },
  {
   "cell_type": "markdown",
   "id": "f9e490fc-5704-43ca-8af0-f00573d328c4",
   "metadata": {},
   "source": [
    "#### Practice"
   ]
  },
  {
   "cell_type": "markdown",
   "id": "7d0d7cf6-5c07-4555-9f3a-6bb91ff15240",
   "metadata": {},
   "source": [
    "Floor Division 20 and 3"
   ]
  },
  {
   "cell_type": "code",
   "execution_count": null,
   "id": "9362a0e2-7883-47d0-88cf-d836184c6029",
   "metadata": {},
   "outputs": [],
   "source": []
  },
  {
   "cell_type": "markdown",
   "id": "e9f4d630-e66a-45f6-83db-c1577d42f2a9",
   "metadata": {},
   "source": [
    "Modulus (remainder) 20 and 3"
   ]
  },
  {
   "cell_type": "code",
   "execution_count": null,
   "id": "ffd87bf0-e664-4380-9db1-72db20ec2b9c",
   "metadata": {},
   "outputs": [],
   "source": []
  },
  {
   "cell_type": "markdown",
   "id": "3a50a6bc-796b-4895-8003-ce34eb22bab4",
   "metadata": {},
   "source": [
    "Exponents: 9 squared\n"
   ]
  },
  {
   "cell_type": "code",
   "execution_count": null,
   "id": "cef834b5-7430-4eee-845b-32dc7c4471d6",
   "metadata": {},
   "outputs": [],
   "source": []
  },
  {
   "cell_type": "markdown",
   "id": "46aecc67-f701-4607-be58-3a1dee388d48",
   "metadata": {},
   "source": [
    "Square root of 144"
   ]
  },
  {
   "cell_type": "code",
   "execution_count": null,
   "id": "249b8f80-d6ff-4ed7-9beb-420c5efa8b3c",
   "metadata": {},
   "outputs": [],
   "source": []
  },
  {
   "cell_type": "markdown",
   "id": "2d93d301-218f-4ac8-9f7f-febe7d977063",
   "metadata": {},
   "source": [
    "# Compound Assignment Operators"
   ]
  },
  {
   "cell_type": "markdown",
   "id": "427d3a21-9cb1-43cc-9cab-ac52ec9a7919",
   "metadata": {},
   "source": [
    "Operators that will perform functions "
   ]
  },
  {
   "cell_type": "markdown",
   "id": "6a61f7a4-b3ad-49e9-96d2-f5c8739a0e9e",
   "metadata": {},
   "source": [
    "Addition: +="
   ]
  },
  {
   "cell_type": "code",
   "execution_count": 186,
   "id": "cf965cdf-bf30-4a52-a5cd-c5ebc3db402f",
   "metadata": {},
   "outputs": [
    {
     "data": {
      "text/plain": [
       "15"
      ]
     },
     "execution_count": 186,
     "metadata": {},
     "output_type": "execute_result"
    }
   ],
   "source": [
    "x = 10\n",
    "x += 5\n",
    "x"
   ]
  },
  {
   "cell_type": "markdown",
   "id": "c2f1894c-f8be-4197-b293-c5f512aae740",
   "metadata": {},
   "source": [
    "Subtraction -="
   ]
  },
  {
   "cell_type": "code",
   "execution_count": 189,
   "id": "58f91b3a-a4f1-426a-8ed5-67b6a5fb3cbf",
   "metadata": {},
   "outputs": [
    {
     "data": {
      "text/plain": [
       "9"
      ]
     },
     "execution_count": 189,
     "metadata": {},
     "output_type": "execute_result"
    }
   ],
   "source": [
    "# x = 15 from before\n",
    "x -= 6\n",
    "x"
   ]
  },
  {
   "cell_type": "markdown",
   "id": "f8cd0d90-5adc-4330-847c-f80a59eb2eae",
   "metadata": {},
   "source": [
    "Multiplication *="
   ]
  },
  {
   "cell_type": "code",
   "execution_count": 192,
   "id": "3e5076eb-6703-4f42-bf99-fefb7df54973",
   "metadata": {},
   "outputs": [
    {
     "data": {
      "text/plain": [
       "36"
      ]
     },
     "execution_count": 192,
     "metadata": {},
     "output_type": "execute_result"
    }
   ],
   "source": [
    "# x = 9 from before\n",
    "x *= 4\n",
    "x"
   ]
  },
  {
   "cell_type": "markdown",
   "id": "f0bb8625-1934-4c84-80d7-263dbadae4b0",
   "metadata": {},
   "source": [
    "Division /="
   ]
  },
  {
   "cell_type": "code",
   "execution_count": 194,
   "id": "ef62b3b9-8e29-42be-9942-39d7abc91fb7",
   "metadata": {},
   "outputs": [
    {
     "data": {
      "text/plain": [
       "6.0"
      ]
     },
     "execution_count": 194,
     "metadata": {},
     "output_type": "execute_result"
    }
   ],
   "source": [
    "# x = 36 from before\n",
    "x /= 6\n",
    "x"
   ]
  },
  {
   "cell_type": "code",
   "execution_count": null,
   "id": "b0821c98-a414-4bdd-a785-eb9728587275",
   "metadata": {},
   "outputs": [],
   "source": []
  },
  {
   "cell_type": "markdown",
   "id": "edeb5d43-2fbe-4eb7-8105-fa6e3c94af7c",
   "metadata": {},
   "source": [
    "# Comparison & Conditional statements"
   ]
  },
  {
   "cell_type": "markdown",
   "id": "42442315-79be-4fc0-aa18-56a19ed02233",
   "metadata": {},
   "source": [
    "Great than less than = too"
   ]
  },
  {
   "cell_type": "code",
   "execution_count": 199,
   "id": "5c52788b-c6f7-4580-8333-cc7b5bb5a922",
   "metadata": {},
   "outputs": [],
   "source": [
    "x,y = 10,20"
   ]
  },
  {
   "cell_type": "code",
   "execution_count": 201,
   "id": "d891c5c0-25e8-4fb4-a041-f2947150e85d",
   "metadata": {},
   "outputs": [
    {
     "data": {
      "text/plain": [
       "False"
      ]
     },
     "execution_count": 201,
     "metadata": {},
     "output_type": "execute_result"
    }
   ],
   "source": [
    "x > y #Greater or equal to x >= y"
   ]
  },
  {
   "cell_type": "code",
   "execution_count": 203,
   "id": "3dba410a-e507-4cc3-9ec3-88f794e66fc8",
   "metadata": {},
   "outputs": [
    {
     "data": {
      "text/plain": [
       "True"
      ]
     },
     "execution_count": 203,
     "metadata": {},
     "output_type": "execute_result"
    }
   ],
   "source": [
    "x < y #Less than or equal toox <= y "
   ]
  },
  {
   "cell_type": "code",
   "execution_count": 205,
   "id": "f472fadb-eb0d-40d0-aaa6-8cfbb58eeb64",
   "metadata": {},
   "outputs": [
    {
     "data": {
      "text/plain": [
       "False"
      ]
     },
     "execution_count": 205,
     "metadata": {},
     "output_type": "execute_result"
    }
   ],
   "source": [
    "x == y"
   ]
  },
  {
   "cell_type": "code",
   "execution_count": 209,
   "id": "a04ad583-3958-4ceb-9fa0-e5d70cbc1c4f",
   "metadata": {},
   "outputs": [
    {
     "data": {
      "text/plain": [
       "True"
      ]
     },
     "execution_count": 209,
     "metadata": {},
     "output_type": "execute_result"
    }
   ],
   "source": [
    "x != y"
   ]
  },
  {
   "cell_type": "markdown",
   "id": "64a1fba6-ccdf-4148-81a1-90e0b00a00e1",
   "metadata": {},
   "source": [
    "# If Statements "
   ]
  },
  {
   "cell_type": "markdown",
   "id": "90e34d44-729a-405d-b176-564e460ecee0",
   "metadata": {},
   "source": [
    "if will execute block if condition is met. ELIF exectutes if a different condition is met, else will execute if the if statement is not met."
   ]
  },
  {
   "cell_type": "code",
   "execution_count": 219,
   "id": "eb60ddd3-95c5-48d9-a1ac-a0b3e2175ac0",
   "metadata": {},
   "outputs": [],
   "source": [
    "x,y = 11,20"
   ]
  },
  {
   "cell_type": "code",
   "execution_count": 221,
   "id": "d7c739bd-ba3c-4ddb-9550-9fde0db17cea",
   "metadata": {},
   "outputs": [
    {
     "name": "stdout",
     "output_type": "stream",
     "text": [
      "x is less than 15\n"
     ]
    }
   ],
   "source": [
    "if x < 15:\n",
    "    print('x is less than 15')"
   ]
  },
  {
   "cell_type": "code",
   "execution_count": 223,
   "id": "29bc3af0-ce5f-4beb-bc75-6ccc9bd9435b",
   "metadata": {},
   "outputs": [
    {
     "name": "stdout",
     "output_type": "stream",
     "text": [
      "x is less than y\n"
     ]
    }
   ],
   "source": [
    "if x == y:\n",
    "    print('x is equal to y.')\n",
    "elif x < y: \n",
    "    print('x is less than y.')\n",
    "    "
   ]
  },
  {
   "cell_type": "code",
   "execution_count": 225,
   "id": "6a589392-24c9-4e27-9ae3-89b0a8099181",
   "metadata": {},
   "outputs": [
    {
     "name": "stdout",
     "output_type": "stream",
     "text": [
      "x is odd.\n"
     ]
    }
   ],
   "source": [
    "if x % 2 == 0:\n",
    "    print('x is even.')\n",
    "else:\n",
    "    print('x is odd.')"
   ]
  },
  {
   "cell_type": "markdown",
   "id": "5782acd1-9d70-45cf-9d12-6df59c8daa85",
   "metadata": {},
   "source": [
    "# Logical & Identity Operators"
   ]
  },
  {
   "cell_type": "markdown",
   "id": "f19f1748-58b3-4054-92fc-fc580a6f52cb",
   "metadata": {},
   "source": [
    "'and' for multiple conditions, 'or' for one of multiple conditions,\n",
    "'not' reverse the results"
   ]
  },
  {
   "cell_type": "code",
   "execution_count": 230,
   "id": "ed93a7f4-d139-4a32-8883-10f08c0fb8f0",
   "metadata": {},
   "outputs": [],
   "source": [
    "x, y = 9, 2"
   ]
  },
  {
   "cell_type": "code",
   "execution_count": 232,
   "id": "61167b09-ded6-40a5-9e43-485a78710856",
   "metadata": {},
   "outputs": [
    {
     "name": "stdout",
     "output_type": "stream",
     "text": [
      "5 is between x and y\n"
     ]
    }
   ],
   "source": [
    "if x > 5 and y < 5:\n",
    "    print('5 is between x and y')"
   ]
  },
  {
   "cell_type": "code",
   "execution_count": 234,
   "id": "da9556ac-c1c4-4b20-ae85-1b11e181768c",
   "metadata": {},
   "outputs": [
    {
     "name": "stdout",
     "output_type": "stream",
     "text": [
      "One of the variables is greater than 4\n"
     ]
    }
   ],
   "source": [
    "if x > 4 or y > 4:\n",
    "    print('One of the variables is greater than 4')"
   ]
  },
  {
   "cell_type": "markdown",
   "id": "b958ea26-bb1a-42d4-b41e-7f686cc7394e",
   "metadata": {},
   "source": [
    "Identity operators is and is not"
   ]
  },
  {
   "cell_type": "code",
   "execution_count": 236,
   "id": "dceffb93-c065-466e-be33-a222570ad7ee",
   "metadata": {},
   "outputs": [
    {
     "name": "stdout",
     "output_type": "stream",
     "text": [
      "False\n"
     ]
    }
   ],
   "source": [
    "print(x is y)"
   ]
  },
  {
   "cell_type": "code",
   "execution_count": 238,
   "id": "10d2ba09-faf0-4d52-8794-f7f2bdef6158",
   "metadata": {},
   "outputs": [
    {
     "name": "stdout",
     "output_type": "stream",
     "text": [
      "True\n"
     ]
    }
   ],
   "source": [
    "print(x is not y)"
   ]
  },
  {
   "cell_type": "markdown",
   "id": "53b310f9-e0fe-4888-b1d5-d9b6caf29651",
   "metadata": {},
   "source": [
    "# Functions"
   ]
  },
  {
   "cell_type": "markdown",
   "id": "be3914bb-9fc7-470d-a7f9-92b596c70bb8",
   "metadata": {},
   "source": [
    "A function is a block of organized, resuable code that performs a related action."
   ]
  },
  {
   "cell_type": "code",
   "execution_count": 152,
   "id": "1d7c1f0e-baa3-4e65-a160-6d37ca997425",
   "metadata": {},
   "outputs": [],
   "source": [
    "#start with def function():\n",
    "def greet():\n",
    "    print('Hello there')"
   ]
  },
  {
   "cell_type": "code",
   "execution_count": 157,
   "id": "01ac4c0d-6f56-4d1b-bcae-9530291b70a8",
   "metadata": {},
   "outputs": [
    {
     "name": "stdout",
     "output_type": "stream",
     "text": [
      "Hello there\n"
     ]
    }
   ],
   "source": [
    "#call function:\n",
    "greet()"
   ]
  },
  {
   "cell_type": "markdown",
   "id": "efd17913-0415-4886-a0a6-e2bc800a073a",
   "metadata": {},
   "source": [
    "Pass parameters in "
   ]
  },
  {
   "cell_type": "code",
   "execution_count": 159,
   "id": "07b7e047-37fd-4dd9-9785-3740ce59b8d3",
   "metadata": {},
   "outputs": [],
   "source": [
    "def greet(name):\n",
    "    print('Hello my name is ' + name)\n",
    "    "
   ]
  },
  {
   "cell_type": "code",
   "execution_count": 161,
   "id": "a09bfd7b-5530-4565-9333-177d50ad5ece",
   "metadata": {},
   "outputs": [
    {
     "name": "stdout",
     "output_type": "stream",
     "text": [
      "Hello my name is Jerry\n"
     ]
    }
   ],
   "source": [
    "greet(\"Jerry\")"
   ]
  },
  {
   "cell_type": "code",
   "execution_count": null,
   "id": "63890604-fbf3-4a6e-8d1e-ee3d92f66c46",
   "metadata": {},
   "outputs": [],
   "source": [
    "#Add 100 to x"
   ]
  },
  {
   "cell_type": "code",
   "execution_count": 163,
   "id": "119810ba-e15d-4cea-81eb-5ae8b1619b16",
   "metadata": {},
   "outputs": [],
   "source": [
    "def add100(x):\n",
    "    x+=100\n",
    "    print(x)\n"
   ]
  },
  {
   "cell_type": "code",
   "execution_count": 165,
   "id": "5531541c-94de-4304-8b29-af4c03027856",
   "metadata": {},
   "outputs": [
    {
     "name": "stdout",
     "output_type": "stream",
     "text": [
      "120\n"
     ]
    }
   ],
   "source": [
    "add100(20)"
   ]
  },
  {
   "cell_type": "code",
   "execution_count": 167,
   "id": "df9ab8f4-5550-4563-b0b3-e81a596ea11c",
   "metadata": {},
   "outputs": [
    {
     "name": "stdout",
     "output_type": "stream",
     "text": [
      "154\n"
     ]
    }
   ],
   "source": [
    "add100(54)"
   ]
  },
  {
   "cell_type": "markdown",
   "id": "0b7f8a5f-22b3-4a82-8100-b6edd906dd6a",
   "metadata": {},
   "source": [
    "# Classes\n"
   ]
  },
  {
   "cell_type": "code",
   "execution_count": 274,
   "id": "91ca8e99-4e0c-415b-b8e7-1e4e0c932569",
   "metadata": {},
   "outputs": [
    {
     "name": "stdout",
     "output_type": "stream",
     "text": [
      "Max barks!\n"
     ]
    }
   ],
   "source": [
    "class Dog:\n",
    "    def __init__(self,name,age):\n",
    "        self.name = name\n",
    "        self.age = age\n",
    "\n",
    "\n",
    "    def bark(self):\n",
    "        print(self.name + ' barks!')\n",
    "    \n",
    "my_dog = Dog('Max',3)\n",
    "my_dog.bark()"
   ]
  },
  {
   "cell_type": "markdown",
   "id": "cbcfcf43-ef31-4da4-bc38-ab5fcc022e66",
   "metadata": {},
   "source": [
    "# Loops\n"
   ]
  },
  {
   "cell_type": "markdown",
   "id": "164f4e01-bf5d-4b73-96c5-046275057a73",
   "metadata": {},
   "source": [
    "While loops rune continutously unless a condition is met"
   ]
  },
  {
   "cell_type": "code",
   "execution_count": 169,
   "id": "371c181d-28dd-4cc2-a60a-040aa781b1cf",
   "metadata": {},
   "outputs": [
    {
     "name": "stdout",
     "output_type": "stream",
     "text": [
      "2\n",
      "4\n",
      "6\n",
      "8\n",
      "10\n"
     ]
    }
   ],
   "source": [
    "count = 0 \n",
    "while count < 10:\n",
    "    count += 2\n",
    "    print(count)"
   ]
  },
  {
   "cell_type": "markdown",
   "id": "38257716-2286-40f6-a5b1-fdcecca6d55f",
   "metadata": {},
   "source": [
    "For loops are used to iterate over a sequence executes a block of code for each item."
   ]
  },
  {
   "cell_type": "code",
   "execution_count": 282,
   "id": "7dc86903-0964-4a0a-8663-52bb4caaba4a",
   "metadata": {},
   "outputs": [
    {
     "name": "stdout",
     "output_type": "stream",
     "text": [
      "pen\n",
      "laptop\n",
      "desk\n"
     ]
    }
   ],
   "source": [
    "office_items = ['pen','laptop','desk']\n",
    "for item in office_items:\n",
    "    print(item)"
   ]
  },
  {
   "cell_type": "code",
   "execution_count": 289,
   "id": "83e6c0a7-b65c-468b-aea8-7a0ecdfd9ad4",
   "metadata": {},
   "outputs": [
    {
     "name": "stdout",
     "output_type": "stream",
     "text": [
      "0\n",
      "25\n",
      "50\n",
      "75\n"
     ]
    }
   ],
   "source": [
    "for i in range(0,100,25): #First number starting point, 2nd end point (non-inclusive), 3rd Intervals\n",
    "    print(i)"
   ]
  },
  {
   "cell_type": "markdown",
   "id": "8d7d4896-f3d4-4041-9fc6-8e26639cd129",
   "metadata": {},
   "source": [
    "'break': How to break out of a loop:"
   ]
  },
  {
   "cell_type": "code",
   "execution_count": 311,
   "id": "3ef291fc-eb45-4cf7-96df-11200a748042",
   "metadata": {},
   "outputs": [
    {
     "name": "stdout",
     "output_type": "stream",
     "text": [
      "Sarah was found in this list.\n"
     ]
    }
   ],
   "source": [
    "name_list = ['Tom', 'John', 'Monica','Sarah','Tony']\n",
    "for name in name_list:\n",
    "    if name == 'Sarah':\n",
    "        print(name + ' was found in this list.')\n",
    "        break\n"
   ]
  },
  {
   "cell_type": "markdown",
   "id": "07bf4ba4-a0bf-4b66-b69a-c36176867d06",
   "metadata": {},
   "source": [
    "Continue will skip the current iteration & continue to the next one"
   ]
  },
  {
   "cell_type": "code",
   "execution_count": 316,
   "id": "ecad13cd-2bfa-41a6-ac65-4c7e20d4a09e",
   "metadata": {},
   "outputs": [
    {
     "name": "stdout",
     "output_type": "stream",
     "text": [
      "1\n",
      "3\n",
      "5\n",
      "7\n",
      "9\n"
     ]
    }
   ],
   "source": [
    "#loop skips even numbers\n",
    "for i in range(10):\n",
    "    if i % 2 == 0:\n",
    "        continue\n",
    "    print(i)"
   ]
  },
  {
   "cell_type": "code",
   "execution_count": 318,
   "id": "e328d21f-54de-4a44-a3fc-6adc3d83ad31",
   "metadata": {},
   "outputs": [
    {
     "name": "stdout",
     "output_type": "stream",
     "text": [
      "i:  0  j:  0\n",
      "i:  0  j:  1\n",
      "i:  0  j:  2\n",
      "i:  1  j:  0\n",
      "i:  1  j:  1\n",
      "i:  1  j:  2\n",
      "i:  2  j:  0\n",
      "i:  2  j:  1\n",
      "i:  2  j:  2\n"
     ]
    }
   ],
   "source": [
    "#Nested loops inside of loops\n",
    "for i in range(3):\n",
    "    for j in range(3):\n",
    "        print('i: ',i, ' j: ', j)"
   ]
  },
  {
   "cell_type": "code",
   "execution_count": null,
   "id": "c857b30f-7361-4651-84b0-9c6333e9d576",
   "metadata": {},
   "outputs": [],
   "source": []
  },
  {
   "cell_type": "markdown",
   "id": "8fd4e5c9-d3bc-4fd4-bef5-2cf6a98e957a",
   "metadata": {},
   "source": [
    "# packages"
   ]
  },
  {
   "cell_type": "code",
   "execution_count": null,
   "id": "91c5a870-651d-48cb-9ee6-54b3bb682e2a",
   "metadata": {},
   "outputs": [],
   "source": [
    "#installation: pip install numpy"
   ]
  },
  {
   "cell_type": "code",
   "execution_count": 323,
   "id": "68f09f67-091c-45ab-bd76-e081b1e7a08b",
   "metadata": {},
   "outputs": [],
   "source": [
    "import numpy as np\n",
    "import pandas as pd\n",
    "import matplotlib.pyplot as plt  # For plotting\n"
   ]
  },
  {
   "cell_type": "markdown",
   "id": "da012036-135a-4a98-a51b-43162b43601e",
   "metadata": {},
   "source": [
    "# We will learn to use these packages later"
   ]
  },
  {
   "cell_type": "code",
   "execution_count": null,
   "id": "629a5801-2425-46d3-9680-3509045eb456",
   "metadata": {},
   "outputs": [],
   "source": []
  }
 ],
 "metadata": {
  "kernelspec": {
   "display_name": "Python 3 (ipykernel)",
   "language": "python",
   "name": "python3"
  },
  "language_info": {
   "codemirror_mode": {
    "name": "ipython",
    "version": 3
   },
   "file_extension": ".py",
   "mimetype": "text/x-python",
   "name": "python",
   "nbconvert_exporter": "python",
   "pygments_lexer": "ipython3",
   "version": "3.12.4"
  }
 },
 "nbformat": 4,
 "nbformat_minor": 5
}
